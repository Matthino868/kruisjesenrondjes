{
 "cells": [
  {
   "cell_type": "markdown",
   "metadata": {},
   "source": [
    "# Kruisjes en rondjes visualiseren #"
   ]
  },
  {
   "cell_type": "code",
   "execution_count": 48,
   "metadata": {},
   "outputs": [],
   "source": [
    "import numpy as np\n",
    "import random\n",
    "from matplotlib import pyplot as plt\n",
    "from data import training_set, test_set"
   ]
  },
  {
   "cell_type": "markdown",
   "metadata": {},
   "source": [
    "### Classes ###"
   ]
  },
  {
   "cell_type": "markdown",
   "metadata": {},
   "source": [
    "Met behulp van de uitleg in de les zijn de volgende classes opgesteld. De classes gedragen zich als een linked list. Door de waarde op te vragen van een Node worden alle links en nodes die achter die node liggen aangesproken voor een waarde."
   ]
  },
  {
   "cell_type": "code",
   "execution_count": 49,
   "metadata": {},
   "outputs": [],
   "source": [
    "class Node:\n",
    "    def __init__(self):\n",
    "        self.value = 0\n",
    "        self.links = []\n",
    "\n",
    "    def getValue(self):\n",
    "        if(len(self.links)==0):\n",
    "            return self.value\n",
    "        \n",
    "        self.value = sum(link.getValue() for link in self.links)\n",
    "        return self.value\n",
    "\n",
    "class Link:\n",
    "    def __init__(self, inNode, outNode):\n",
    "        self.weight = 1\n",
    "        self.inNode = inNode\n",
    "        outNode.links.append(self)\n",
    "\n",
    "    def getValue(self):\n",
    "        value = self.weight * self.inNode.getValue()\n",
    "        return value"
   ]
  },
  {
   "cell_type": "markdown",
   "metadata": {},
   "source": [
    "### Functies ###"
   ]
  },
  {
   "cell_type": "markdown",
   "metadata": {},
   "source": [
    "De functie train wordt gebruikt om het model te trainen met de training set. Het aantal cycli dat het model gaat trainen wordt meegegeven. Na het invullen van de input data wordt back propagation gebruikt om de weights aan te passen. \n",
    "\n",
    "De functie forward propogation vult de input nodes in met input data.\n",
    "\n",
    "De functie backward propogation kijkt hoe ver de voorspelde output van de gewenst output afzat en op basis daarvan worden de weights aangepast in het model. Hierdoor heeft het model \"geleerd\" van zijn fout.\n",
    "\n",
    "De functie predict stopt de input data in het model en kijkt welke voorspelling in de output nodes staan. Vervolgens wordt de softmax functie toegepast om een uitspraak te kunnen doen of de input een kruisje of een rondje is."
   ]
  },
  {
   "cell_type": "code",
   "execution_count": 50,
   "metadata": {},
   "outputs": [],
   "source": [
    "def train(learning_rate, epochs):\n",
    "    for i in range(epochs):\n",
    "        for example, target in training_set:\n",
    "            inputs = np.array(example).flatten()\n",
    "            forward_propagation(inputs)\n",
    "\n",
    "            targets = [1.0, 0.0] if target == \"O\" else [0.0, 1.0]\n",
    "            backward_propagation(targets, learning_rate)\n",
    "\n",
    "def forward_propagation(inputs):\n",
    "    global input_size      \n",
    "    global inputNodes   \n",
    "    # Input values instellen uit de dataset   \n",
    "    for i in range(input_size):\n",
    "        inputNodes[i].value = inputs[i]\n",
    "    \n",
    "def backward_propagation(targets, learning_rate):\n",
    "    global output_size\n",
    "    global outputNodes\n",
    "    # Weights aanpassen \n",
    "    for j in range(output_size):\n",
    "        output_node = outputNodes[j]\n",
    "        output_error = targets[j] - output_node.getValue()\n",
    "        for link in output_node.links:\n",
    "            delta_weight = learning_rate * output_error * link.inNode.getValue()\n",
    "            link.weight += delta_weight\n",
    "\n",
    "def predict(inputs):\n",
    "    forward_propagation(inputs)\n",
    "    # Softmax function toepassen\n",
    "    total_output = sum(np.exp(node.getValue()) for node in outputNodes)\n",
    "    return [np.exp(node.getValue()) / total_output for node in outputNodes]"
   ]
  },
  {
   "cell_type": "markdown",
   "metadata": {},
   "source": [
    "### Test en train model ###"
   ]
  },
  {
   "cell_type": "markdown",
   "metadata": {},
   "source": [
    "Het model wordt getraind met de trainingset. Vervolgens wordt er een uitspraak gedaan over de test data. De test data wordt gevisualiseerd met als titel \"Gewenst antwoord : voorspeld antwoord\"."
   ]
  },
  {
   "cell_type": "code",
   "execution_count": 57,
   "metadata": {},
   "outputs": [
    {
     "data": {
      "image/png": "[encoded data removed]",
      "text/plain": [
       "<Figure size 1600x1600 with 8 Axes>"
      ]
     },
     "metadata": {},
     "output_type": "display_data"
    }
   ],
   "source": [
    "input_size = 9\n",
    "output_size = 2\n",
    "learning_rate = 0.01\n",
    "epochs = 1_000\n",
    "\n",
    "inputNodes = [Node() for i in range(input_size)]\n",
    "outputNodes = [Node() for i in range(output_size)]\n",
    "\n",
    "links = [Link(inputNode,outputNode) for inputNode in inputNodes for outputNode in outputNodes ]\n",
    "\n",
    "train(learning_rate, epochs)\n",
    "\n",
    "figure, axis = plt.subplots(1,len(test_set)) \n",
    "for i in range(len(test_set)):\n",
    "    inputs = np.array(test_set[i][0]).flatten()\n",
    "    prediction = predict(inputs)\n",
    "\n",
    "    axis[i].imshow(test_set[i][0])\n",
    "    antwoord = \"O\" if prediction[0] > prediction[1] else \"X\"\n",
    "    title  = f\"{test_set[i][1]}: {antwoord}\"\n",
    "    axis[i].set_title(title)\n"
   ]
  },
  {
   "cell_type": "code",
   "execution_count": null,
   "metadata": {},
   "outputs": [],
   "source": []
  }
 ],
 "metadata": {
  "kernelspec": {
   "display_name": "Python 3",
   "language": "python",
   "name": "python3"
  },
  "language_info": {
   "codemirror_mode": {
    "name": "ipython",
    "version": 3
   },
   "file_extension": ".py",
   "mimetype": "text/x-python",
   "name": "python",
   "nbconvert_exporter": "python",
   "pygments_lexer": "ipython3",
   "version": "3.10.7"
  }
 },
 "nbformat": 4,
 "nbformat_minor": 2
}
