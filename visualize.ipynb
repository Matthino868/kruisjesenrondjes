{
 "cells": [
  {
   "cell_type": "markdown",
   "metadata": {},
   "source": [
    "# Kruisjes en rondjes visualiseren #"
   ]
  },
  {
   "cell_type": "code",
   "execution_count": 171,
   "metadata": {},
   "outputs": [],
   "source": [
    "import numpy as np\n",
    "import random\n",
    "from matplotlib import pyplot as plt\n",
    "from data import training_set, test_set"
   ]
  },
  {
   "cell_type": "markdown",
   "metadata": {},
   "source": [
    "### Classes ###"
   ]
  },
  {
   "cell_type": "markdown",
   "metadata": {},
   "source": [
    "Met behulp van de uitleg in de les zijn de volgende classes opgesteld. De classes gedragen zich als een linked list. Door de waarde op te vragen van een Node worden alle links en nodes die achter die node liggen aangesproken voor een waarde."
   ]
  },
  {
   "cell_type": "code",
   "execution_count": 172,
   "metadata": {},
   "outputs": [],
   "source": [
    "class Node:\n",
    "    def __init__(self):\n",
    "        self.value = 0\n",
    "        self.links = []\n",
    "\n",
    "    def getValue(self):\n",
    "        if(len(self.links)==0):\n",
    "            return self.value\n",
    "        \n",
    "        self.value = sum(link.getValue() for link in self.links)\n",
    "        return self.value\n",
    "\n",
    "class Link:\n",
    "    def __init__(self, inNode, outNode):\n",
    "        self.weight = 0\n",
    "        self.inNode = inNode\n",
    "        outNode.links.append(self)\n",
    "\n",
    "    def getValue(self):\n",
    "        value = self.weight * self.inNode.getValue()\n",
    "        return value"
   ]
  },
  {
   "cell_type": "markdown",
   "metadata": {},
   "source": [
    "### Functies ###"
   ]
  },
  {
   "cell_type": "markdown",
   "metadata": {},
   "source": [
    "De functie train wordt gebruikt om het model te trainen met de training set. Het aantal cycli dat het model gaat trainen wordt meegegeven. Na het invullen van de input data wordt back propagation gebruikt om de weights aan te passen. \n",
    "\n",
    "De functie forward propogation vult de input nodes in met input data.\n",
    "\n",
    "De functie backward propogation kijkt hoe ver de voorspelde output van de gewenst output afzat en op basis daarvan worden de weights aangepast in het model. Hierdoor heeft het model \"geleerd\" van zijn fout.\n",
    "\n",
    "De functie predict stopt de input data in het model en kijkt welke voorspelling in de output nodes staan. Vervolgens wordt de softmax functie toegepast om een uitspraak te kunnen doen of de input een kruisje of een rondje is."
   ]
  },
  {
   "cell_type": "code",
   "execution_count": 173,
   "metadata": {},
   "outputs": [],
   "source": [
    "def train(learning_rate, epochs):\n",
    "    global plotdata\n",
    "    global maxCost\n",
    "    for i in range(epochs):\n",
    "        squared_error = []\n",
    "        for example, target in training_set:\n",
    "            inputs = np.array(example).flatten()\n",
    "            forward_propagation(inputs)\n",
    "\n",
    "            targets = [1.0, 0.0] if target == \"O\" else [0.0, 1.0]\n",
    "\n",
    "            squared_error.append(backward_propagation(targets, learning_rate))\n",
    "        \n",
    "        plotdata[0].append(np.mean(squared_error))\n",
    "        plotdata[1].append(i)\n",
    "        if(np.mean(squared_error) < maxCost):\n",
    "            print(\"Training is klaar bij epoch: \", i)\n",
    "            print(\"Cost: \", np.mean(squared_error))\n",
    "            return\n",
    "\n",
    "def forward_propagation(inputs):\n",
    "    global input_size      \n",
    "    global inputNodes   \n",
    "    # Input values instellen uit de dataset   \n",
    "    for i in range(input_size):\n",
    "        inputNodes[i].value = inputs[i]\n",
    "    \n",
    "def backward_propagation(targets, learning_rate):\n",
    "    global output_size\n",
    "    global outputNodes\n",
    "    squared_error = []\n",
    "    # Weights aanpassen \n",
    "    for j in range(output_size):\n",
    "        output_node = outputNodes[j]\n",
    "        output_error = targets[j] - softmax(output_node.getValue())\n",
    "        squared_error.append((softmax(output_node.getValue()) - targets[j]) ** 2)\n",
    "\n",
    "        for link in output_node.links:\n",
    "            delta_weight = learning_rate * output_error * link.inNode.getValue()\n",
    "            link.weight += delta_weight\n",
    "    return squared_error\n",
    "\n",
    "def predict(inputs):\n",
    "    forward_propagation(inputs)\n",
    "    # Softmax function toepassen\n",
    "    total_output = sum(np.exp(node.getValue()) for node in outputNodes)\n",
    "    return [np.exp(node.getValue()) / total_output for node in outputNodes]\n",
    "\n",
    "def softmax(input):\n",
    "    total_output = sum(np.exp(node.getValue()) for node in outputNodes)\n",
    "    return np.exp(input) / total_output\n"
   ]
  },
  {
   "cell_type": "markdown",
   "metadata": {},
   "source": [
    "### Test en train model ###"
   ]
  },
  {
   "cell_type": "markdown",
   "metadata": {},
   "source": [
    "Het model wordt getraind met de trainingset. Vervolgens wordt er een uitspraak gedaan over de test data. De test data wordt gevisualiseerd met als titel \"Gewenst antwoord : voorspeld antwoord\"."
   ]
  },
  {
   "cell_type": "code",
   "execution_count": 175,
   "metadata": {},
   "outputs": [
    {
     "name": "stdout",
     "output_type": "stream",
     "text": [
      "Training is klaar bij epoch:  166\n",
      "Cost:  0.000997585036739271\n",
      "[[0.25624620841481516, 0.21975513468336544, 0.19020739726858965, 0.16592557278834566, 0.14568244786482037, 0.1286160679937705, 0.11410963763238727, 0.10170398804801664, 0.09104345069258785, 0.08184395154034177, 0.07387397713470223, 0.06694258836071239, 0.06089126451748737, 0.05558791193685369, 0.05092220040186511, 0.046801803217153895, 0.0431493122042331, 0.03989968908413268, 0.036998156998725495, 0.03439845759344552, 0.032061412252976575, 0.029953735733617426, 0.028047058436143482, 0.026317120522835268, 0.024743107172316016, 0.02330709953737612, 0.021993620467071925, 0.020789257836162242, 0.01968235146936691, 0.01866273223903499, 0.01772150403576453, 0.01685086103944776, 0.016043934121555345, 0.015294661347087624, 0.01459767846606253, 0.013948226030743922, 0.013342070379694128, 0.012775436220524872, 0.012244948942046521, 0.01174758511120558, 0.011280629875080068, 0.010841640204779075, 0.010428413095594665, 0.01003895798359583, 0.009671472758986412, 0.009324322855762263, 0.008996022979355287, 0.008685221102154913, 0.008390684413570822, 0.008111286958681045, 0.007845998739155317, 0.00759387608340164, 0.007354053120854468, 0.007125734218905204, 0.006908187260907025, 0.006700737660572265, 0.006502763022420799, 0.00631368837014442, 0.006132981875166005, 0.005960151026576496, 0.005794739191262938, 0.005636322519593243, 0.005484507157661705, 0.005338926731961745, 0.005199240076553235, 0.0050651291764286285, 0.004936297303936795, 0.004812467327864816, 0.004693380177164438, 0.004578793443391436, 0.0044684801077446625, 0.004362227380182923, 0.004259835639493117, 0.004161117464408099, 0.004065896746950047, 0.003974007880124119, 0.0038852950129246167, 0.0037996113663551962, 0.0037168186048195584, 0.0036367862578186323, 0.0035593911874051256, 0.003484517097303327, 0.0034120540800090487, 0.0033418981985468537, 0.0032739510998851702, 0.0032081196572985556, 0.003144315639224685, 0.0030824554023948583, 0.0030224596072240587, 0.0029642529536326196, 0.002907763935638791, 0.0028529246132116765, 0.0027996704000095712, 0.0027479398657506058, 0.0026976745520729045, 0.0026488188008407416, 0.00260131959394333, 0.0025551264037142075, 0.002510191053172889, 0.0024664675853575805, 0.0024239121410781885, 0.002382482844474264, 0.0023421396958126393, 0.002302844471005085, 0.0022645606273681332, 0.0022272532151849144, 0.0021908887946637118, 0.002155435357919323, 0.002120862255632458, 0.00208714012806865, 0.0020542408401624597, 0.0020221374203949374, 0.0019908040032125558, 0.0019602157747546554, 0.0019303489216733174, 0.001901180582845639, 0.001872688803792591, 0.0018448524936321218, 0.001817651384406388, 0.0017910659926343095, 0.001765077582951054, 0.001739668133705707, 0.0017148203043972376, 0.0016905174048370845, 0.0016667433659342864, 0.0016434827120060521, 0.0016207205345232661, 0.0015984424672062661, 0.0015766346623919945, 0.0015552837685986567, 0.0015343769092188825, 0.0015139016622768048, 0.0014938460411886253, 0.0014741984764700784, 0.0014549477983377332, 0.0014360832201544861, 0.0014175943226725956, 0.001399471039030517, 0.001381703640462564, 0.0013642827226827698, 0.00134719919290678, 0.001330444257477758, 0.0013140094100642596, 0.0012978864204000122, 0.001282067323537256, 0.0012665444095869894, 0.001251310213920952, 0.0012363575078117766, 0.001221679289488872, 0.0012072687755891253, 0.001193119392982489, 0.001179224770953774, 0.0011655787337229457, 0.0011521752932872435, 0.0011390086425693508, 0.0011260731488566907, 0.0011133633475177577, 0.0011008739359821894, 0.0010885997679719191, 0.0010765358479714977, 0.0010646773259263078, 0.00105301949215792, 0.0010415577724865036, 0.0010302877235506432, 0.0010192050283155027, 0.0010083054917606267, 0.000997585036739271], [0, 1, 2, 3, 4, 5, 6, 7, 8, 9, 10, 11, 12, 13, 14, 15, 16, 17, 18, 19, 20, 21, 22, 23, 24, 25, 26, 27, 28, 29, 30, 31, 32, 33, 34, 35, 36, 37, 38, 39, 40, 41, 42, 43, 44, 45, 46, 47, 48, 49, 50, 51, 52, 53, 54, 55, 56, 57, 58, 59, 60, 61, 62, 63, 64, 65, 66, 67, 68, 69, 70, 71, 72, 73, 74, 75, 76, 77, 78, 79, 80, 81, 82, 83, 84, 85, 86, 87, 88, 89, 90, 91, 92, 93, 94, 95, 96, 97, 98, 99, 100, 101, 102, 103, 104, 105, 106, 107, 108, 109, 110, 111, 112, 113, 114, 115, 116, 117, 118, 119, 120, 121, 122, 123, 124, 125, 126, 127, 128, 129, 130, 131, 132, 133, 134, 135, 136, 137, 138, 139, 140, 141, 142, 143, 144, 145, 146, 147, 148, 149, 150, 151, 152, 153, 154, 155, 156, 157, 158, 159, 160, 161, 162, 163, 164, 165, 166]]\n"
     ]
    },
    {
     "data": {
      "image/png": "[encoded data removed]",
      "text/plain": [
       "<Figure size 640x480 with 1 Axes>"
      ]
     },
     "metadata": {},
     "output_type": "display_data"
    }
   ],
   "source": [
    "input_size = 9\n",
    "output_size = 2\n",
    "learning_rate = 0.1\n",
    "epochs = 2_000\n",
    "maxCost = 0.001  \n",
    "\n",
    "inputNodes = [Node() for i in range(input_size)]\n",
    "outputNodes = [Node() for i in range(output_size)]\n",
    "\n",
    "plotdata = [[], []]\n",
    "\n",
    "links = [Link(inputNode,outputNode) for inputNode in inputNodes for outputNode in outputNodes ]\n",
    "\n",
    "train(learning_rate, epochs)\n",
    "print(plotdata)\n",
    "plt.plot(plotdata[1],plotdata[0])\n",
    "# plt.plot(plotdata)\n",
    "plt.show()\n",
    "# print(plotdata[0].pop(1500))\n",
    "# print(plotdata[0].pop(1998))\n",
    "\n",
    "# figure, axis = plt.subplots(1,len(test_set)) \n",
    "# for i in range(len(test_set)):\n",
    "#     inputs = np.array(test_set[i][0]).flatten()\n",
    "#     prediction = predict(inputs)\n",
    "\n",
    "#     axis[i].imshow(test_set[i][0])\n",
    "#     antwoord = \"O\" if prediction[0] > prediction[1] else \"X\"\n",
    "#     title  = f\"{test_set[i][1]}: {antwoord}\"\n",
    "#     axis[i].set_title(title)\n"
   ]
  },
  {
   "cell_type": "code",
   "execution_count": null,
   "metadata": {},
   "outputs": [],
   "source": []
  }
 ],
 "metadata": {
  "kernelspec": {
   "display_name": "Python 3",
   "language": "python",
   "name": "python3"
  },
  "language_info": {
   "codemirror_mode": {
    "name": "ipython",
    "version": 3
   },
   "file_extension": ".py",
   "mimetype": "text/x-python",
   "name": "python",
   "nbconvert_exporter": "python",
   "pygments_lexer": "ipython3",
   "version": "3.10.7"
  }
 },
 "nbformat": 4,
 "nbformat_minor": 2
}
