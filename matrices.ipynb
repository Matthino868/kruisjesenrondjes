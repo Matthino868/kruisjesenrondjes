{
 "cells": [
  {
   "cell_type": "markdown",
   "metadata": {},
   "source": [
    "# Neural netwerk met matrices #"
   ]
  },
  {
   "cell_type": "code",
   "execution_count": 38,
   "metadata": {},
   "outputs": [
    {
     "name": "stdout",
     "output_type": "stream",
     "text": [
      "Training is klaar bij epoch:  879\n",
      "Cost:  0.009993482087786427\n"
     ]
    },
    {
     "data": {
      "image/png": "[encoded data removed]",
      "text/plain": [
       "<Figure size 640x480 with 1 Axes>"
      ]
     },
     "metadata": {},
     "output_type": "display_data"
    },
    {
     "data": {
      "image/png": "[encoded data removed]",
      "text/plain": [
       "<Figure size 640x480 with 8 Axes>"
      ]
     },
     "metadata": {},
     "output_type": "display_data"
    }
   ],
   "source": [
    "import numpy as np\n",
    "import random\n",
    "from matplotlib import pyplot as plt\n",
    "from data import training_set, test_set\n",
    "\n",
    "def train(learning_rate, epochs):\n",
    "    global maxCost, input_nodes, weights_hidden, weights_input, bias_output, bias_hidden\n",
    "    plotdata = []\n",
    "    for epoch in range(epochs):\n",
    "        epoch_loss = 0\n",
    "        for example, target in training_set:\n",
    "            inputs = np.array(example).flatten().reshape(-1, 1)\n",
    "            input_nodes = inputs\n",
    "                        \n",
    "            # Forward pass\n",
    "            # print(\"bias_hidden \",bias_hidden.shape)\n",
    "            # print(\"bias_hidden \",bias_hidden)\n",
    "            # print(\"dotproduct \",np.dot(input_nodes.T, weights_input).shape)\n",
    "            hidden_nodes = np.dot(input_nodes.T, weights_input) + bias_hidden\n",
    "            hidden_nodes = sigmoid(hidden_nodes)\n",
    "            # print(\"hidden_nodes\", hidden_nodes.shape)\n",
    "\n",
    "            # print(\"bias_output \",bias_output.shape)\n",
    "            # print(\"bias_output \",bias_output)\n",
    "            # print(\"dotproduct \",np.dot(hidden_nodes, weights_hidden).shape)\n",
    "\n",
    "            output_nodes = np.dot(hidden_nodes, weights_hidden) + bias_output\n",
    "            output_nodes = sigmoid(output_nodes)                \n",
    "            # print(\"output_nodes \" ,output_nodes.shape)\n",
    "\n",
    "            targets = [1.0, 0.0] if target == \"O\" else [0.0, 1.0]\n",
    "\n",
    "            # Backward propogation\n",
    "            output_error = np.subtract(targets, output_nodes) \n",
    "            output_delta = output_error * sigmoid_derivative(output_nodes)\n",
    "\n",
    "            hidden_error = output_delta.dot(weights_hidden.T)\n",
    "            hidden_delta = hidden_error * sigmoid_derivative(hidden_nodes)\n",
    "\n",
    "            weights_hidden += hidden_nodes.T.dot(output_delta) * learning_rate\n",
    "            weights_input  += input_nodes.dot(hidden_delta) * learning_rate\n",
    "\n",
    "            bias_output += np.sum(output_delta, axis=0) * learning_rate\n",
    "            bias_hidden += np.sum(hidden_delta, axis=0) * learning_rate\n",
    "\n",
    "            # Compute the loss (mean squared error)\n",
    "            epoch_loss += np.mean(np.square(output_error))\n",
    "\n",
    "        plotdata.append(epoch_loss/len(training_set))\n",
    "\n",
    "        # Print average loss for the epoch\n",
    "        # print(f\"Epoch {epoch+1}/{epochs}, Loss: {epoch_loss / len(training_set)}\")\n",
    "\n",
    "        if(epoch_loss < maxCost):\n",
    "            print(\"Training is klaar bij epoch: \", epoch)\n",
    "            print(\"Cost: \", epoch_loss)\n",
    "            plt.plot(np.arange(epoch+1),plotdata)\n",
    "            return\n",
    "    print(\"Cost: \", epoch_loss)\n",
    "    plt.plot(np.arange(epoch+1),plotdata)\n",
    "        \n",
    "def forward():\n",
    "    global input_nodes, weights_input, weights_hidden, biases\n",
    "\n",
    "    # Forward pass\n",
    "    hidden_nodes = np.dot(input_nodes.T, weights_input) + bias_hidden\n",
    "    hidden_nodes = sigmoid(hidden_nodes)\n",
    "\n",
    "    output_nodes = np.dot(hidden_nodes, weights_hidden) + bias_output\n",
    "    output_nodes = sigmoid(output_nodes)\n",
    "    return output_nodes[0]\n",
    "    \n",
    "def predict(inputs):\n",
    "    global input_nodes\n",
    "    # Forward pass\n",
    "    input_nodes = inputs\n",
    "    output_nodes = forward()\n",
    "    return output_nodes\n",
    "\n",
    "def softmax(input):\n",
    "    output = np.exp(input) / sum(np.exp(node) for node in input)\n",
    "    return output\n",
    "\n",
    "def sigmoid(input):\n",
    "    output = 1 / (1 + np.exp(-input)) \n",
    "    return output\n",
    "\n",
    "def sigmoid_derivative(input):\n",
    "    x = sigmoid(input)\n",
    "    output = x * (1- x)\n",
    "    return output\n",
    "\n",
    "input_size = 9\n",
    "output_size = 2\n",
    "hidden_size = 15\n",
    "learning_rate = 0.1\n",
    "epochs = 20000\n",
    "maxCost = 0.01  \n",
    "\n",
    "input_node = np.zeros(input_size).reshape(-1, 1)\n",
    "hidden_nodes = np.zeros(hidden_size).reshape(-1, 1)\n",
    "output_nodes = np.zeros(output_size).reshape(-1, 1)\n",
    "weights_input = np.random.rand(input_size, hidden_size)\n",
    "weights_hidden = np.random.rand(hidden_size, output_size)\n",
    "\n",
    "bias_output = np.zeros((output_size, 1)).reshape(1, -1)\n",
    "bias_hidden = np.zeros((hidden_size, 1)).reshape(1, -1)\n",
    "\n",
    "train(learning_rate, epochs)\n",
    "# print(weights_input)\n",
    "\n",
    "figure, axis = plt.subplots(1,len(test_set)) \n",
    "for i in range(len(test_set)):\n",
    "    inputs = np.array(test_set[i][0]).flatten()\n",
    "    \n",
    "    prediction = predict(inputs)\n",
    "    # print(\"prediction\", prediction)\n",
    "\n",
    "    axis[i].imshow(test_set[i][0])\n",
    "    antwoord = \"O\" if prediction[0] > prediction[1] else \"X\"\n",
    "    title  = f\"{test_set[i][1]}: {antwoord}\"\n",
    "    axis[i].set_title(title)   "
   ]
  }
 ],
 "metadata": {
  "kernelspec": {
   "display_name": "Python 3",
   "language": "python",
   "name": "python3"
  },
  "language_info": {
   "codemirror_mode": {
    "name": "ipython",
    "version": 3
   },
   "file_extension": ".py",
   "mimetype": "text/x-python",
   "name": "python",
   "nbconvert_exporter": "python",
   "pygments_lexer": "ipython3",
   "version": "3.10.7"
  }
 },
 "nbformat": 4,
 "nbformat_minor": 2
}
