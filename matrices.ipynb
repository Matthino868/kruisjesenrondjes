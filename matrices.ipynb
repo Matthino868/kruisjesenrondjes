{
 "cells": [
  {
   "cell_type": "markdown",
   "metadata": {},
   "source": [
    "# Neural netwerk met matrices #"
   ]
  },
  {
   "cell_type": "code",
   "execution_count": 152,
   "metadata": {},
   "outputs": [
    {
     "name": "stdout",
     "output_type": "stream",
     "text": [
      "Training is klaar bij epoch:  21\n",
      "Cost:  0.09955343416534608\n",
      "input_nodes [0 1 1 1 0 1 1 1 0]\n",
      "prediction [0.71716227 0.28283773]\n",
      "input_nodes [1 0 1 1 0 1 1 1 0]\n",
      "prediction [0.70645789 0.29354211]\n",
      "input_nodes [1 0 1 0 0 0 1 0 1]\n",
      "prediction [0.61371971 0.38628029]\n",
      "input_nodes [0 1 0 1 0 1 0 1 0]\n",
      "prediction [0.66188827 0.33811173]\n",
      "input_nodes [1 0 0 1 1 1 0 0 1]\n",
      "prediction [0.27589317 0.72410683]\n",
      "input_nodes [0 0 1 1 1 1 1 0 0]\n",
      "prediction [0.27589317 0.72410683]\n",
      "input_nodes [0 0 0 1 1 1 0 0 0]\n",
      "prediction [0.22729763 0.77270237]\n",
      "input_nodes [1 0 0 1 1 0 1 0 0]\n",
      "prediction [0.24113522 0.75886478]\n"
     ]
    },
    {
     "data": {
      "image/png": "[encoded data removed]",
      "text/plain": [
       "<Figure size 640x480 with 1 Axes>"
      ]
     },
     "metadata": {},
     "output_type": "display_data"
    },
    {
     "data": {
      "image/png": "[encoded data removed]",
      "text/plain": [
       "<Figure size 640x480 with 8 Axes>"
      ]
     },
     "metadata": {},
     "output_type": "display_data"
    }
   ],
   "source": [
    "import numpy as np\n",
    "import random\n",
    "from matplotlib import pyplot as plt\n",
    "from data import training_set, test_set\n",
    "\n",
    "def train(learning_rate, epochs):\n",
    "    global maxCost\n",
    "    global input_nodes\n",
    "    global weights\n",
    "    global biases\n",
    "    plotdata = []\n",
    "    for epoch in range(epochs):\n",
    "        epoch_loss = 0\n",
    "        for example, target in training_set:\n",
    "            inputs = np.array(example).flatten()\n",
    "            input_nodes = inputs\n",
    "            \n",
    "            # Forward pass\n",
    "            output_nodes = np.dot(input_nodes, weights) + biases\n",
    "\n",
    "\n",
    "            targets = [1.0, 0.0] if target == \"O\" else [0.0, 1.0]\n",
    "            \n",
    "            output_error = output_nodes - targets\n",
    "\n",
    "            weights_gradient = np.outer(input_nodes, output_error)\n",
    "            biases_gradient = np.sum(output_error, axis=0, keepdims=True)\n",
    "\n",
    "            # Update weights and biases using gradient descent\n",
    "            weights -= learning_rate * weights_gradient\n",
    "            biases -= learning_rate * biases_gradient\n",
    "\n",
    "            # Compute the loss (mean squared error)\n",
    "            epoch_loss += np.mean(np.square(output_error))\n",
    "\n",
    "        plotdata.append(epoch_loss)\n",
    "\n",
    "        # Print average loss for the epoch\n",
    "        # print(f\"Epoch {epoch+1}/{epochs}, Loss: {epoch_loss / len(training_set)}\")\n",
    "\n",
    "        if(epoch_loss < maxCost):\n",
    "            print(\"Training is klaar bij epoch: \", epoch)\n",
    "            print(\"Cost: \", epoch_loss)\n",
    "            plt.plot(np.arange(epoch+1),plotdata)\n",
    "            return\n",
    "    \n",
    "def predict(inputs):\n",
    "    global output_nodes\n",
    "    global input_nodes\n",
    "    global weights\n",
    "    global biases\n",
    "    # Forward pass\n",
    "    input_nodes = inputs\n",
    "    output_nodes = (np.dot(input_nodes, weights) + biases)[0]\n",
    "    return softmax(output_nodes)\n",
    "\n",
    "def softmax(input):\n",
    "    output = np.exp(input) / sum(np.exp(node) for node in input)\n",
    "    return output\n",
    "\n",
    "input_size = 9\n",
    "output_size = 2\n",
    "learning_rate = 0.1\n",
    "epochs = 2_000\n",
    "maxCost = 0.1  \n",
    "\n",
    "input_nodes = np.zeros(input_size)\n",
    "output_nodes = []\n",
    "weights = np.zeros([input_size, output_size])\n",
    "biases = np.zeros([1, output_size])\n",
    "\n",
    "train(learning_rate, epochs)\n",
    "\n",
    "figure, axis = plt.subplots(1,len(test_set)) \n",
    "for i in range(len(test_set)):\n",
    "    inputs = np.array(test_set[i][0]).flatten()\n",
    "    \n",
    "    prediction = predict(inputs)\n",
    "    print(\"prediction\", prediction)\n",
    "\n",
    "    axis[i].imshow(test_set[i][0])\n",
    "    antwoord = \"O\" if prediction[0] > prediction[1] else \"X\"\n",
    "    title  = f\"{test_set[i][1]}: {antwoord}\"\n",
    "    axis[i].set_title(title)\n",
    "\n",
    "        "
   ]
  }
 ],
 "metadata": {
  "kernelspec": {
   "display_name": "Python 3",
   "language": "python",
   "name": "python3"
  },
  "language_info": {
   "codemirror_mode": {
    "name": "ipython",
    "version": 3
   },
   "file_extension": ".py",
   "mimetype": "text/x-python",
   "name": "python",
   "nbconvert_exporter": "python",
   "pygments_lexer": "ipython3",
   "version": "3.10.7"
  }
 },
 "nbformat": 4,
 "nbformat_minor": 2
}
